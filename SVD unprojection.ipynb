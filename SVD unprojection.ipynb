{
 "cells": [
  {
   "cell_type": "markdown",
   "metadata": {},
   "source": [
    "Implementation of an SVD based solution to the multiview reconstruction problem. The goal is to find the 3D location of a point (R) that is observed by multiple cameras with known parameters. The inputs are p_i (the projection matrices for each camera), t_i (the world transform of each camera), and r_i (the location of the observed point in the image space of each camera). If we take Pi(p, r_3d) to be the projection function that projects r_3d (a 3d location in the camera's own coordinates) according to the camera matrix p, then the optimal R is that which minimizes: \n",
    "\n",
    "L = SUM_i (Pi(p_i * t_i * R) - r_i) ^ 2\n",
    "\n",
    "Typically, this problem is solved through optimization techniques like LVM. The exact formulation above cannot be solved using the SVD because the terms being squared are not linear in R (the projection operation is not linear). This can be fixed by using the cross product. Instead of squaring the distance between the projected point and observed image point, we take the cross product of the two in the homogeneous camera space. This acts similarly because if the observed and projected point are the same, they will correspond to parallel vectors in camera space and their cross product will be zero. As the points become more different, the vectors become less parallel and the magnitude of the cross product grows. This gives us a new objective which can be solved by least-squares/SVD:\n",
    "\n",
    "L_SVD = SUM_i Cross(p_i, t_i, R, r_i_h) ^ 2\n"
   ]
  },
  {
   "cell_type": "code",
   "execution_count": 1,
   "metadata": {},
   "outputs": [],
   "source": [
    "import numpy as np\n",
    "from scipy.stats import special_ortho_group\n",
    "from scipy.optimize import minimize\n",
    "from tqdm.notebook import tqdm\n",
    "import matplotlib.pyplot as plt"
   ]
  },
  {
   "cell_type": "code",
   "execution_count": 2,
   "metadata": {},
   "outputs": [],
   "source": [
    "\n",
    "def gen_transform_matrix(min_trans=0, max_trans=1):\n",
    "    mat = np.eye(4)\n",
    "    mat[:3, :3] = special_ortho_group.rvs(3)\n",
    "    mat[:3, 3] = np.random.random(3) * (max_trans - min_trans) + min_trans\n",
    "    \n",
    "    return mat\n",
    "\n",
    "def make_homogenous(ary):\n",
    "    if len(ary.shape) == 1:\n",
    "        output = np.ones(4)\n",
    "        output[:-1] = ary       \n",
    "    else:\n",
    "        output = np.zeros((len(ary), 4))\n",
    "        output[:, :-1] = ary\n",
    "        output[:, -1] = 1\n",
    "    return output\n",
    "\n",
    "def make_unhomogenous(ary):\n",
    "    if len(ary.shape) == 1:\n",
    "        return ary[:-1] / ary[-1]\n",
    "    return ary[:, :-1] / ary[:, -1].reshape(-1, 1)\n",
    "\n",
    "def levi_cevita():\n",
    "    epsilon = np.zeros((3, 3, 3))\n",
    "    # cyclic permutations\n",
    "    for perm in [(0, 1, 2), (1, 2, 0), (2, 0, 1)]:\n",
    "        epsilon[perm] = 1\n",
    "    # acyclic permutations\n",
    "    for perm in [(1, 0 ,2), (2, 1, 0), (0, 2, 1)]:\n",
    "        epsilon[perm] = -1\n",
    "    \n",
    "    return epsilon\n",
    "\n",
    "# This matrix gives the result of \n",
    "# the cross product between the projected \n",
    "# 3d point and the ground truth 2d point\n",
    "# (in homogenous coordinates). If they \n",
    "# match it should give the zero vector\n",
    "def build_error_mat(trans, proj, point_2d_h):\n",
    "    mat = np.einsum(\"lkm,l,ki,ij->mj\", \n",
    "                    levi_cevita(),\n",
    "                    point_2d_h,\n",
    "                    proj,\n",
    "                    trans)\n",
    "    return mat\n",
    "\n",
    "def error(point_3d, points_2d, trans_mats, proj_mat):\n",
    "    points_2d_est = np.array(\n",
    "    [make_unhomogenous(proj_mat.dot(trans_mat.dot(\n",
    "        make_homogenous(point_3d)))) for trans_mat in trans_mats])\n",
    "    loss = np.mean((points_2d_est - points_2d)**2)\n",
    "    return loss\n",
    "\n",
    "def gen_problem(N_views, noise_level):\n",
    "    transform_mats = [gen_transform_matrix() for _ in range(N_views)]\n",
    "    projection_mat = np.array([[1, 0, 0, 0],\n",
    "                               [0, 1, 0, 0],\n",
    "                               [0, 0, 1, 0]])\n",
    "    point_3d = np.random.random(3)\n",
    "    points_2d_h = np.array(\n",
    "        [projection_mat.dot(trans_mat.dot(\n",
    "            make_homogenous(point_3d))) for trans_mat in transform_mats])\n",
    "    points_2d = make_unhomogenous(points_2d_h)\n",
    "    noisy_points_2d_h = points_2d_h + np.random.rand(*points_2d_h.shape) * noise_level\n",
    "    noisy_points_2d = make_unhomogenous(noisy_points_2d_h)\n",
    "    \n",
    "    return point_3d, points_2d_h, points_2d, noisy_points_2d_h, noisy_points_2d, projection_mat, transform_mats\n",
    "\n",
    "def solve_problem(transform_mats, projection_mat, points_2d_h):\n",
    "    error_mats = [build_error_mat(trans, projection_mat, point_2d_h) \\\n",
    "              for trans, point_2d_h in zip(transform_mats, points_2d_h)]\n",
    "    total_error_mat = np.concatenate(error_mats, axis=0)\n",
    "    u, s, v = np.linalg.svd(total_error_mat)\n",
    "    solved_point = v[-1, :-1] / v[-1, -1]\n",
    "    \n",
    "    return solved_point "
   ]
  },
  {
   "cell_type": "code",
   "execution_count": 4,
   "metadata": {},
   "outputs": [
    {
     "name": "stdout",
     "output_type": "stream",
     "text": [
      "True point =  [0.71719746 0.75475105 0.68208971]\n",
      "Solved point =  [0.71139922 0.75118741 0.67891112]\n"
     ]
    }
   ],
   "source": [
    "N_views = 10\n",
    "noise_level = 0.01\n",
    "point_3d, points_2d_h, points_2d, noisy_points_2d_h, noisy_points_2d, projection_mat, transform_mats = gen_problem(\n",
    "    N_views, noise_level)\n",
    "error_mats = [build_error_mat(trans, projection_mat, point_2d_h) \\\n",
    "              for trans, point_2d_h in zip(transform_mats, noisy_points_2d_h)]\n",
    "total_error_mat = np.concatenate(error_mats, axis=0)\n",
    "u, s, v = np.linalg.svd(total_error_mat)\n",
    "solved_point = v[-1, :-1] / v[-1, -1]\n",
    "print('True point = ', point_3d)\n",
    "print('Solved point = ', solved_point)"
   ]
  },
  {
   "cell_type": "code",
   "execution_count": 5,
   "metadata": {},
   "outputs": [
    {
     "name": "stdout",
     "output_type": "stream",
     "text": [
      "True point =  [0.71719746 0.75475105 0.68208971]\n",
      "Solved point =  [0.71139922 0.75118741 0.67891112]\n",
      "l2 optimum =  [0.70813678 0.75154198 0.67841167]\n"
     ]
    }
   ],
   "source": [
    "res = minimize(error, solved_point, (noisy_points_2d, transform_mats, projection_mat))\n",
    "l2_optimum = res['x']\n",
    "\n",
    "print('True point = ', point_3d)\n",
    "print('Solved point = ', solved_point)\n",
    "print(\"l2 optimum = \", l2_optimum)\n"
   ]
  },
  {
   "cell_type": "code",
   "execution_count": 20,
   "metadata": {},
   "outputs": [
    {
     "data": {
      "application/vnd.jupyter.widget-view+json": {
       "model_id": "db2470ba01174f8fa25339cad6a2274f",
       "version_major": 2,
       "version_minor": 0
      },
      "text/plain": [
       "  0%|          | 0/100 [00:00<?, ?it/s]"
      ]
     },
     "metadata": {},
     "output_type": "display_data"
    },
    {
     "data": {
      "image/png": "[encoded data removed]",
      "text/plain": [
       "<Figure size 432x288 with 1 Axes>"
      ]
     },
     "metadata": {
      "needs_background": "light"
     },
     "output_type": "display_data"
    }
   ],
   "source": [
    "# Which is more noise resistant (l2 or svd)?\n",
    "# SVD seems to do better\n",
    "N_views = 20\n",
    "noise_level = 0.1\n",
    "\n",
    "l2_errors = []\n",
    "svd_errors = []\n",
    "\n",
    "for _ in tqdm(range(100)):\n",
    "    point_3d, points_2d_h, points_2d, noisy_points_2d_h, noisy_points_2d, projection_mat, transform_mats = gen_problem(\n",
    "    N_views, noise_level)\n",
    "    solved_point = solve_problem(transform_mats, projection_mat, noisy_points_2d_h)\n",
    "    res = minimize(error, solved_point, (noisy_points_2d, transform_mats, projection_mat))\n",
    "    l2_optimum = res['x']\n",
    "    if res['success']:\n",
    "        l2_errors.append(np.linalg.norm(point_3d - l2_optimum))\n",
    "    svd_errors.append(np.linalg.norm(point_3d - solved_point))\n",
    "\n",
    "l2_errors = np.array(l2_errors)\n",
    "svd_errors = np.array(svd_errors)\n",
    "\n",
    "plt.hist([l2_errors, svd_errors], bins=20, label=['l2', 'svd'])\n",
    "plt.legend()\n",
    "plt.show()"
   ]
  }
 ],
 "metadata": {
  "kernelspec": {
   "display_name": "Python 3",
   "language": "python",
   "name": "python3"
  },
  "language_info": {
   "codemirror_mode": {
    "name": "ipython",
    "version": 3
   },
   "file_extension": ".py",
   "mimetype": "text/x-python",
   "name": "python",
   "nbconvert_exporter": "python",
   "pygments_lexer": "ipython3",
   "version": "3.9.1"
  }
 },
 "nbformat": 4,
 "nbformat_minor": 2
}
